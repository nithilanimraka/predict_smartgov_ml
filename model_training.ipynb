{
 "cells": [
  {
   "cell_type": "code",
   "execution_count": 1,
   "id": "0298da8c",
   "metadata": {},
   "outputs": [],
   "source": [
    "import pandas as pd\n",
    "import numpy as np\n",
    "from sklearn.metrics import mean_absolute_error, mean_squared_error, r2_score\n",
    "import xgboost as xgb\n",
    "import lightgbm as lgb\n",
    "from catboost import CatBoostRegressor\n",
    "import matplotlib.pyplot as plt"
   ]
  },
  {
   "cell_type": "code",
   "execution_count": 2,
   "id": "f4f16659",
   "metadata": {},
   "outputs": [],
   "source": [
    "X_train = np.load('artifacts/X_train.npz')['arr_0']\n",
    "y_train = np.load('artifacts/Y_train.npz')['arr_0']\n",
    "X_test = np.load('artifacts/X_test.npz')['arr_0']\n",
    "y_test = np.load('artifacts/Y_test.npz')['arr_0']"
   ]
  },
  {
   "cell_type": "code",
   "execution_count": 3,
   "id": "ae6b2d38",
   "metadata": {},
   "outputs": [],
   "source": [
    "# Define function to train and evaluate a model\n",
    "def train_evaluate(model, model_name):\n",
    "    # Train\n",
    "    model.fit(X_train, y_train)\n",
    "    \n",
    "    # Predict (logged scale)\n",
    "    preds_log = model.predict(X_test)\n",
    "    \n",
    "    # Inverse transform to original scale for metrics\n",
    "    preds = np.expm1(preds_log)\n",
    "    y_test_orig = np.expm1(y_test)\n",
    "    \n",
    "    # Metrics\n",
    "    mae = mean_absolute_error(y_test_orig, preds)\n",
    "    rmse = np.sqrt(mean_squared_error(y_test_orig, preds))\n",
    "    r2 = r2_score(y_test_orig, preds)\n",
    "    \n",
    "    # Feature importance (for tree-based)\n",
    "    fi = None\n",
    "    if hasattr(model, 'feature_importances_'):\n",
    "        fi = model.feature_importances_\n",
    "    elif hasattr(model, 'get_feature_importance'):\n",
    "        fi = model.get_feature_importance()\n",
    "\n",
    "    if fi is not None:\n",
    "        feature_names = X_train.columns if isinstance(X_train, pd.DataFrame) else [f\"f{i}\" for i in range(X_train.shape[1])]\n",
    "        importances = pd.Series(fi, index=feature_names).sort_values(ascending=False)\n",
    "        print(f\"\\nTop 5 Features for {model_name}:\\n{importances.head()}\")\n",
    "    \n",
    "    return {'Model': model_name, 'MAE': mae, 'RMSE': rmse, 'R2': r2}"
   ]
  },
  {
   "cell_type": "code",
   "execution_count": 4,
   "id": "e8affa6c",
   "metadata": {},
   "outputs": [],
   "source": [
    "# Train base models\n",
    "models = {\n",
    "    'XGBoost': xgb.XGBRegressor(objective='reg:squarederror', random_state=42),\n",
    "    'LightGBM': lgb.LGBMRegressor(random_state=42, verbose=-1),\n",
    "    'CatBoost': CatBoostRegressor(random_state=42, verbose=0)\n",
    "}"
   ]
  },
  {
   "cell_type": "code",
   "execution_count": 5,
   "id": "c0d5e792",
   "metadata": {},
   "outputs": [
    {
     "name": "stdout",
     "output_type": "stream",
     "text": [
      "\n",
      "Top 5 Features for XGBoost:\n",
      "f29    0.135520\n",
      "f32    0.130324\n",
      "f42    0.128667\n",
      "f36    0.069995\n",
      "f40    0.068466\n",
      "dtype: float32\n"
     ]
    },
    {
     "name": "stderr",
     "output_type": "stream",
     "text": [
      "/Users/nithilathawalampitiya/Documents/Projects/Datathon_Rootcode/datavenv/lib/python3.12/site-packages/sklearn/utils/validation.py:2749: UserWarning: X does not have valid feature names, but LGBMRegressor was fitted with feature names\n",
      "  warnings.warn(\n"
     ]
    },
    {
     "name": "stdout",
     "output_type": "stream",
     "text": [
      "\n",
      "Top 5 Features for LightGBM:\n",
      "f0     349\n",
      "f20    262\n",
      "f21    161\n",
      "f1     156\n",
      "f27     97\n",
      "dtype: int32\n",
      "\n",
      "Top 5 Features for CatBoost:\n",
      "f38    12.929012\n",
      "f32    10.775134\n",
      "f40    10.214041\n",
      "f42    10.047643\n",
      "f29     7.433816\n",
      "dtype: float64\n"
     ]
    }
   ],
   "source": [
    "results = []\n",
    "for name, model in models.items():\n",
    "    results.append(train_evaluate(model, name))"
   ]
  },
  {
   "cell_type": "code",
   "execution_count": 6,
   "id": "883bc899",
   "metadata": {},
   "outputs": [
    {
     "name": "stdout",
     "output_type": "stream",
     "text": [
      "\n",
      "Base Model Comparison:\n",
      "      Model       MAE       RMSE        R2\n",
      "0   XGBoost  8.286138  11.305230  0.698252\n",
      "1  LightGBM  8.273400  11.271698  0.700040\n",
      "2  CatBoost  8.263278  11.273426  0.699948\n"
     ]
    }
   ],
   "source": [
    "# Step 4: Compare in a table\n",
    "results_df = pd.DataFrame(results)\n",
    "print(\"\\nBase Model Comparison:\")\n",
    "print(results_df)"
   ]
  },
  {
   "cell_type": "code",
   "execution_count": 7,
   "id": "5cea6f4b",
   "metadata": {},
   "outputs": [
    {
     "data": {
      "image/png": "[encoded data removed]",
      "text/plain": [
       "<Figure size 1000x600 with 1 Axes>"
      ]
     },
     "metadata": {},
     "output_type": "display_data"
    }
   ],
   "source": [
    "# Optional: Plot comparison\n",
    "results_df.plot(x='Model', y=['MAE', 'RMSE'], kind='bar', figsize=(10, 6))\n",
    "plt.title('Base Model Metrics Comparison')\n",
    "plt.ylabel('Error (Original Scale)')\n",
    "plt.show()"
   ]
  },
  {
   "cell_type": "code",
   "execution_count": null,
   "id": "45ce5e03",
   "metadata": {},
   "outputs": [],
   "source": []
  }
 ],
 "metadata": {
  "kernelspec": {
   "display_name": "datavenv",
   "language": "python",
   "name": "python3"
  },
  "language_info": {
   "codemirror_mode": {
    "name": "ipython",
    "version": 3
   },
   "file_extension": ".py",
   "mimetype": "text/x-python",
   "name": "python",
   "nbconvert_exporter": "python",
   "pygments_lexer": "ipython3",
   "version": "3.12.11"
  }
 },
 "nbformat": 4,
 "nbformat_minor": 5
}
